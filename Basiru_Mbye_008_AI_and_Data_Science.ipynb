{
 "cells": [
  {
   "cell_type": "markdown",
   "id": "64b13ad5-1be2-4d37-a69b-b042f3ef63ff",
   "metadata": {},
   "source": [
    "PYTHON ASSIGNMENT"
   ]
  },
  {
   "cell_type": "markdown",
   "id": "e529b27d-4aa3-4593-8346-b9b16f5fb219",
   "metadata": {},
   "source": [
    "1. Basic If-Else with List Element\n",
    "You have a list numbers = [10, 20, 30, 40]. Write a program that checks if the first element of the list is greater than 25. Print \"First element is large\" if it is, and \"First element is small\" if it isn't.\n"
   ]
  },
  {
   "cell_type": "code",
   "execution_count": 3,
   "id": "5d3ce1cb-7982-4eb1-844f-441dcba36d26",
   "metadata": {},
   "outputs": [
    {
     "name": "stdout",
     "output_type": "stream",
     "text": [
      "First element is small\n"
     ]
    }
   ],
   "source": [
    "\n",
    "my_list = [10, 20, 30, 40]\n",
    "if my_list[0] > 25:\n",
    "    print(\"First element is large\")\n",
    "elif(my_list[0] < 25):\n",
    "    print(\"First element is small\")\n",
    "else:\n",
    "    print(\"both values are equal\")\n"
   ]
  },
  {
   "cell_type": "markdown",
   "id": "31781fad-65dc-45a8-a7ef-9ebb852298c9",
   "metadata": {},
   "source": [
    "2. Modify List Based on Condition\n",
    "Given a list scores = [45, 67, 89, 92, 54, 31], write a program that creates a new list. For each score in the original list, if the score is greater than or equal to 50, add \"Pass\" to the new list. If it's less than 50, add \"Fail\".\n"
   ]
  },
  {
   "cell_type": "code",
   "execution_count": 5,
   "id": "1d32a242-dc11-4610-99b2-41f4f25fc3c0",
   "metadata": {},
   "outputs": [
    {
     "name": "stdout",
     "output_type": "stream",
     "text": [
      "['Fail', 'Pass', 'Pass', 'Pass', 'Pass', 'Fail']\n"
     ]
    }
   ],
   "source": [
    "#Q2\n",
    "scores_list = [45, 67, 89, 92, 54, 31]\n",
    "new_list = []\n",
    "for i in scores_list:\n",
    "    if i >= 50:\n",
    "        new_list.append(\"Pass\")\n",
    "    else:\n",
    "        new_list.append(\"Fail\")\n",
    "print(new_list)"
   ]
  },
  {
   "cell_type": "markdown",
   "id": "6888c1a4-b542-47da-970f-73518ff74b5b",
   "metadata": {},
   "source": [
    "3. Check for an Item in a List (Membership Test)\n",
    "Ask the user to input their favorite fruit. Check if that fruit is in the predefined list fruits = ['apple', 'banana', 'mango', 'grape']. Print a message saying whether their fruit is on the list or not.\n"
   ]
  },
  {
   "cell_type": "code",
   "execution_count": 45,
   "id": "a5f6a867-0176-43a7-a933-3916fd6b4a0e",
   "metadata": {},
   "outputs": [
    {
     "name": "stdin",
     "output_type": "stream",
     "text": [
      "please enter your favorite fruit:  mango\n"
     ]
    },
    {
     "name": "stdout",
     "output_type": "stream",
     "text": [
      "Your favorite food is found in the list\n"
     ]
    }
   ],
   "source": [
    "fruits = ['apple', 'banana', 'mango', 'grape']\n",
    "user_favorite = input(\"please enter your favorite fruit: \")\n",
    "user_favorite.lower()\n",
    "if user_favorite in fruits:\n",
    "    print(\"Your favorite food is found in the list\")\n",
    "else:\n",
    "    print(\"Your favorite food is not found in the list\")\n",
    "    "
   ]
  },
  {
   "cell_type": "markdown",
   "id": "35b6218e-7cb3-4708-9ee2-4124a44b48a0",
   "metadata": {},
   "source": [
    "4. Conditional Sum of List Elements\n",
    "Given a list values = [1, -2, 3, -4, 5, 6], write a program that calculates the sum of only the positive numbers in the list. Use a loop and an if statement.\n"
   ]
  },
  {
   "cell_type": "code",
   "execution_count": 32,
   "id": "ee0d20fe-3b0e-40b9-8597-83cdbef6a409",
   "metadata": {},
   "outputs": [
    {
     "name": "stdout",
     "output_type": "stream",
     "text": [
      "Sum of positive numbers: 15\n"
     ]
    }
   ],
   "source": [
    "values = [1, -2, 3, -4, 5, 6]\n",
    "sum_of_positive_numbers = 0\n",
    "for value in values:\n",
    "    if value > 0:\n",
    "        sum_of_positive_numbers += value\n",
    "print(\"Sum of positive numbers: \" + str(sum_of_positive_numbers))      \n",
    "        "
   ]
  },
  {
   "cell_type": "markdown",
   "id": "61cd55b5-036a-4ef9-b865-87eadc2082f2",
   "metadata": {},
   "source": [
    "5. Find Maximum with Condition\n",
    "You have a list data = [120, 330, 40, 550, 60]. Find the largest number in the list that is less than 500. Print the number. If no number is found, print \"No valid number found\".\n"
   ]
  },
  {
   "cell_type": "code",
   "execution_count": 15,
   "id": "b326425b-b6fe-453c-ba02-a15320ac1ed5",
   "metadata": {},
   "outputs": [
    {
     "name": "stdout",
     "output_type": "stream",
     "text": [
      "Maximum number less than 500 is: 330\n"
     ]
    }
   ],
   "source": [
    "data = [120, 330, 40, 550,60]\n",
    "max_num = None\n",
    "for num in data:\n",
    "    if num < 500:\n",
    "        if max_num is None or num > max_num:\n",
    "            max_num = num\n",
    "if max_num is None:\n",
    "    print(\"Number less than 500 is not found\")\n",
    "else:\n",
    "    print(\"Maximum number less than 500 is: \" + str(max_num))\n",
    "    "
   ]
  },
  {
   "cell_type": "markdown",
   "id": "e3e00a61-4bc7-4237-940f-f696f40e5c52",
   "metadata": {},
   "source": [
    "6. Categorize List Elements\n",
    "Create a list mixed = [12, 'hello', 33, 'world', 7.5, 100]. Write a program that separates this list into two new lists: one for integers and one for strings. Ignore any other data types.\n"
   ]
  },
  {
   "cell_type": "code",
   "execution_count": 49,
   "id": "26149053-011f-44c8-a410-ad49c8f96bdd",
   "metadata": {},
   "outputs": [
    {
     "name": "stdout",
     "output_type": "stream",
     "text": [
      "List of intergers: [12, 33, 100]\n",
      "List of strings: ['hello', 'world']\n"
     ]
    }
   ],
   "source": [
    "mixed_list = [12, 'hello', 33, 'world', 7.5, 100]\n",
    "int_list = []\n",
    "str_list =[]\n",
    "for i in range(len(mixed_list)):\n",
    "    if isinstance(mixed_list[i], int):\n",
    "        int_list.append(mixed_list[i])\n",
    "    elif isinstance(mixed_list[i], str):\n",
    "        str_list.append(mixed_list[i])\n",
    "\n",
    "print(\"List of intergers: \" + str(int_list))\n",
    "print(\"List of strings: \" + str(str_list))\n",
    "        "
   ]
  },
  {
   "cell_type": "markdown",
   "id": "708712b5-084c-4d1f-9895-51ffe26157ce",
   "metadata": {},
   "source": [
    "7. Nested If with List Index\n",
    "Given a list my_list = [10, 20, 30, 40, 50] and an index provided by the user. Check if the index is valid for the list. If it is, check if the element at that index is even. Print \"Valid index, even number\", \"Valid index, odd number\", or \"Invalid index\" based on the checks.\n"
   ]
  },
  {
   "cell_type": "code",
   "execution_count": 21,
   "id": "7074494a-4754-4e80-aee1-752890acee3a",
   "metadata": {},
   "outputs": [
    {
     "name": "stdin",
     "output_type": "stream",
     "text": [
      "please enter an index value:  4\n"
     ]
    },
    {
     "name": "stdout",
     "output_type": "stream",
     "text": [
      "Valid index, even number\n"
     ]
    }
   ],
   "source": [
    "my_list = [10, 20, 30, 40, 50]\n",
    "user_index = int(input(\"please enter an index value: \"))\n",
    "\n",
    "if user_index >= 0 and (user_index <= len(my_list)):\n",
    "     if my_list[user_index] % 2 == 0:\n",
    "         print(\"Valid index, even number\")\n",
    "     if my_list[user_index] % 2 != 0:\n",
    "         print(\"Valid index, odd number\")\n",
    "else:\n",
    "    print(\"invalid index\")\n",
    "         "
   ]
  },
  {
   "cell_type": "markdown",
   "id": "325d9990-da20-4442-878f-5c7172488d3e",
   "metadata": {},
   "source": [
    "8. Remove Elements Meeting a Condition\n",
    "You have a list temperatures = [25, 30, 105, 28, 16, -5, 99]. This list has some faulty readings (any temperature below 0 or above 100 is faulty). Create a new list that contains only the valid temperatures.\n"
   ]
  },
  {
   "cell_type": "code",
   "execution_count": 25,
   "id": "0bafd8de-5ac7-4aa9-99b6-656efffe6e57",
   "metadata": {},
   "outputs": [
    {
     "name": "stdout",
     "output_type": "stream",
     "text": [
      "List of valid temprerature: [25, 30, 28, 16, 99]\n"
     ]
    }
   ],
   "source": [
    "list_of_all_temperatures = [25, 30, 105, 28, 16, -5, 99]\n",
    "list_of_valid_temperatures = []\n",
    "for value in list_of_all_temperatures:\n",
    "    if value >= 0 and value <= 100:\n",
    "        list_of_valid_temperatures.append(value)\n",
    "print(f'List of valid temprerature: {list_of_valid_temperatures}')\n",
    "        "
   ]
  },
  {
   "cell_type": "markdown",
   "id": "da6f500f-6296-4c8d-8377-86391cde212a",
   "metadata": {},
   "source": [
    "9. Simple List Search\n",
    "Create a list of names: names = ['Alice', 'Bob', 'Charlie', 'Diana']. Ask the user for a name to search for. If you find the name, print its position (index) in the list. If you don't find it, print \"Name not found\"."
   ]
  },
  {
   "cell_type": "code",
   "execution_count": 47,
   "id": "ef1a34e4-6338-41a9-8d3d-c83c9f552b28",
   "metadata": {},
   "outputs": [
    {
     "name": "stdin",
     "output_type": "stream",
     "text": [
      "Please the name you are searching for:  bob\n"
     ]
    },
    {
     "name": "stdout",
     "output_type": "stream",
     "text": [
      "1\n"
     ]
    }
   ],
   "source": [
    "names = ['Alice', 'Bob', 'Charlie', 'Diana']\n",
    "user_name = input(\"Please the name you are searching for: \")\n",
    "user_name = user_name.capitalize()\n",
    "if user_name in names:\n",
    "    print(names.index(user_name))\n",
    "else:\n",
    "    print(\"Name not found\")"
   ]
  },
  {
   "cell_type": "markdown",
   "id": "14b5e673-3471-4678-ad28-fcacf65a0a83",
   "metadata": {},
   "source": [
    "10. Combined Condition on Multiple List Properties\n",
    "Given a list numbers = [15, 7, 22, 9, 36, 12, 18], write a program that finds and prints all numbers in the list that are both greater than 10 and divisible by 3.\n"
   ]
  },
  {
   "cell_type": "code",
   "execution_count": 48,
   "id": "c77367bf-255c-423e-ac34-5c5c879b5676",
   "metadata": {},
   "outputs": [
    {
     "name": "stdout",
     "output_type": "stream",
     "text": [
      "[15, 36, 12, 18]\n"
     ]
    }
   ],
   "source": [
    "numbers = [15, 7, 22, 9, 36, 12, 18]\n",
    "output = []\n",
    "\n",
    "for i in range(len(numbers)):\n",
    "    if (numbers[i] > 10) and (numbers[i] % 3 == 0):\n",
    "        output.append(numbers[i])\n",
    "print(output)\n",
    "    "
   ]
  },
  {
   "cell_type": "code",
   "execution_count": null,
   "id": "987f4f7b-5d4f-4eed-9331-65cb16006e45",
   "metadata": {},
   "outputs": [],
   "source": []
  },
  {
   "cell_type": "code",
   "execution_count": null,
   "id": "e51fac72-11a2-4676-9d94-ebf4dc612182",
   "metadata": {},
   "outputs": [],
   "source": []
  }
 ],
 "metadata": {
  "kernelspec": {
   "display_name": "Python [conda env:base] *",
   "language": "python",
   "name": "conda-base-py"
  },
  "language_info": {
   "codemirror_mode": {
    "name": "ipython",
    "version": 3
   },
   "file_extension": ".py",
   "mimetype": "text/x-python",
   "name": "python",
   "nbconvert_exporter": "python",
   "pygments_lexer": "ipython3",
   "version": "3.12.7"
  }
 },
 "nbformat": 4,
 "nbformat_minor": 5
}
